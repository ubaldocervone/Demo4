{
  "nbformat": 4,
  "nbformat_minor": 0,
  "metadata": {
    "colab": {
      "provenance": [],
      "authorship_tag": "ABX9TyMVuwEnJnMbuWyWiO9qOa9L",
      "include_colab_link": true
    },
    "kernelspec": {
      "name": "python3",
      "display_name": "Python 3"
    },
    "language_info": {
      "name": "python"
    }
  },
  "cells": [
    {
      "cell_type": "markdown",
      "metadata": {
        "id": "view-in-github",
        "colab_type": "text"
      },
      "source": [
        "<a href=\"https://colab.research.google.com/github/ubaldocervone/Demo4/blob/main/Dataset%20Amazon.ipynb\" target=\"_parent\"><img src=\"https://colab.research.google.com/assets/colab-badge.svg\" alt=\"Open In Colab\"/></a>"
      ]
    },
    {
      "cell_type": "code",
      "source": [
        "import csv\n",
        "\n",
        "def conta_righe_csv(file_csv):\n",
        "    with open(file_csv, 'r', newline='') as file:\n",
        "        lettore_csv = csv.reader(file)\n",
        "        numero_totale_di_righe = sum(1 for riga in lettore_csv)\n",
        "    return numero_totale_di_righe\n",
        "\n",
        "percorso_file_csv = 'amazon_prime_users.csv'  # Sostituisci 'percorso_del_tuo_file.csv' con il percorso del tuo file CSV\n",
        "numero_totale = conta_righe_csv(percorso_file_csv)\n",
        "\n",
        "print(\"Il numero totale di righe nel file CSV è:\", numero_totale)\n"
      ],
      "metadata": {
        "colab": {
          "base_uri": "https://localhost:8080/"
        },
        "id": "-fOO7iEalFFo",
        "outputId": "9cc94c0a-100d-458f-ef8e-bfa5664f6b8e"
      },
      "execution_count": 9,
      "outputs": [
        {
          "output_type": "stream",
          "name": "stdout",
          "text": [
            "Il numero totale di righe nel file CSV è: 2501\n"
          ]
        }
      ]
    }
  ]
}